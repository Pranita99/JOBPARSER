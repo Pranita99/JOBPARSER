{
  "nbformat": 4,
  "nbformat_minor": 0,
  "metadata": {
    "colab": {
      "name": "JobParser.ipynb",
      "provenance": [],
      "collapsed_sections": []
    },
    "kernelspec": {
      "name": "python3",
      "display_name": "Python 3"
    }
  },
  "cells": [
    {
      "cell_type": "code",
      "metadata": {
        "id": "0NVaYLwDmyy3",
        "colab_type": "code",
        "colab": {
          "base_uri": "https://localhost:8080/",
          "height": 108
        },
        "outputId": "5eaa8321-4fd4-4a89-adc4-6fbbac9b76df"
      },
      "source": [
        "! pip3 install requests"
      ],
      "execution_count": null,
      "outputs": [
        {
          "output_type": "stream",
          "text": [
            "Requirement already satisfied: requests in /usr/local/lib/python3.6/dist-packages (2.21.0)\n",
            "Requirement already satisfied: idna<2.9,>=2.5 in /usr/local/lib/python3.6/dist-packages (from requests) (2.8)\n",
            "Requirement already satisfied: certifi>=2017.4.17 in /usr/local/lib/python3.6/dist-packages (from requests) (2019.11.28)\n",
            "Requirement already satisfied: chardet<3.1.0,>=3.0.2 in /usr/local/lib/python3.6/dist-packages (from requests) (3.0.4)\n",
            "Requirement already satisfied: urllib3<1.25,>=1.21.1 in /usr/local/lib/python3.6/dist-packages (from requests) (1.24.3)\n"
          ],
          "name": "stdout"
        }
      ]
    },
    {
      "cell_type": "code",
      "metadata": {
        "id": "D2BQtiaNm093",
        "colab_type": "code",
        "colab": {}
      },
      "source": [
        "import requests\n",
        "#loc=input()\n",
        "#loc=loc.lower()\n",
        "#loc[0]=loc[0].upper()\n",
        "#URL = 'https://www.monster.com/jobs/search/?q=Software-Developer&where='+loc\n",
        "\n",
        "URL = 'https://www.monster.com/jobs/search/?q=Software-Developer&where=Australia'\n",
        "page = requests.get(URL)"
      ],
      "execution_count": null,
      "outputs": []
    },
    {
      "cell_type": "code",
      "metadata": {
        "id": "N_pfwlbGnent",
        "colab_type": "code",
        "colab": {
          "base_uri": "https://localhost:8080/",
          "height": 35
        },
        "outputId": "c966da85-a40f-474a-8cf3-19ecffc81abb"
      },
      "source": [
        "! pip3 install beautifulsoup4"
      ],
      "execution_count": null,
      "outputs": [
        {
          "output_type": "stream",
          "text": [
            "Requirement already satisfied: beautifulsoup4 in /usr/local/lib/python3.6/dist-packages (4.6.3)\n"
          ],
          "name": "stdout"
        }
      ]
    },
    {
      "cell_type": "code",
      "metadata": {
        "id": "QBKq-XngnpfA",
        "colab_type": "code",
        "colab": {}
      },
      "source": [
        "import requests\n",
        "from bs4 import BeautifulSoup\n",
        "\n",
        "URL = 'https://www.monster.com/jobs/search/?q=Software-Developer&where=Australia'\n",
        "page = requests.get(URL)\n",
        "\n",
        "soup = BeautifulSoup(page.content, 'html.parser')\n",
        "\n",
        "results = soup.find(id='ResultsContainer')\n"
      ],
      "execution_count": null,
      "outputs": []
    },
    {
      "cell_type": "code",
      "metadata": {
        "id": "VdaZFjo9pp9S",
        "colab_type": "code",
        "colab": {
          "base_uri": "https://localhost:8080/",
          "height": 744
        },
        "outputId": "6207ca92-cd08-4f95-b13c-ca44fdabb66e"
      },
      "source": [
        "for job_elem in job_elems:\n",
        "    title_elem = job_elem.find('h2', class_='title')\n",
        "    company_elem = job_elem.find('div', class_='company')\n",
        "    location_elem = job_elem.find('div', class_='location')\n",
        "    if None in (title_elem, company_elem, location_elem):\n",
        "        continue\n",
        "    print(title_elem.text.strip())\n",
        "    print(company_elem.text.strip())\n",
        "    print(location_elem.text.strip())\n",
        "    print()\n"
      ],
      "execution_count": null,
      "outputs": [
        {
          "output_type": "stream",
          "text": [
            "SQL BI (SSRS, SSIS) developer for Blackboard - NYC\n",
            "LanceSoft Inc\n",
            "New york, WA\n",
            "\n",
            "Python Developer\n",
            "LanceSoft Inc\n",
            "Woodlands, WA\n",
            "\n",
            "Junior QA Analyst - Melbourne, Victoria\n",
            "Mediaocean\n",
            "Melbourne, VIC\n",
            "\n",
            "Test Analyst\n",
            "Dialog Group\n",
            "Canberra, ACT\n",
            "\n",
            "Test Consultant\n",
            "Dialog Group\n",
            "Brisbane, QLD\n",
            "\n",
            "Customer Experience Technical Analyst - Sydney, New South Wales\n",
            "Mediaocean\n",
            "Sydney, NSW\n",
            "\n",
            "Senior Practice Manager - IES (WA)\n",
            "Blue Ocean Ventures\n",
            "New York, WA\n",
            "\n",
            "Enterprise Account Executive\n",
            "Zuora\n",
            "Sydney, NSW\n",
            "\n",
            "Senior Automation Tester\n",
            "Dialog Group\n",
            "Canberra, ACT\n",
            "\n",
            "Software Development Engineer/Software Developer - New initiative project from t\n",
            "Amazon Corporate LLC\n",
            "Seattle, WA\n",
            "\n"
          ],
          "name": "stdout"
        }
      ]
    },
    {
      "cell_type": "code",
      "metadata": {
        "id": "ql923P3dp3jG",
        "colab_type": "code",
        "colab": {}
      },
      "source": [
        "python_jobs = results.find_all('h2', string='Java Developer')\n",
        "python_jobs = results.find_all('h2', string=lambda text: 'java' in text.lower())\n",
        "python_jobs = results.find_all('h2', string=lambda text: \"java\" in text.lower())\n",
        "\n",
        "for p_job in python_jobs:\n",
        "    link = p_job.find('a')['href']\n",
        "    print(p_job.text.strip())\n",
        "    print(f\"Apply here: {link}\\n\")\n"
      ],
      "execution_count": null,
      "outputs": []
    },
    {
      "cell_type": "code",
      "metadata": {
        "id": "1HQN6tvRqLlR",
        "colab_type": "code",
        "colab": {}
      },
      "source": [
        ""
      ],
      "execution_count": null,
      "outputs": []
    }
  ]
}